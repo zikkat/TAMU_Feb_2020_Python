{
 "cells": [
  {
   "cell_type": "markdown",
   "metadata": {
    "slideshow": {
     "slide_type": "slide"
    }
   },
   "source": [
    "# Not So Random Walk of Machine Learning techinques \n",
    "<img src=\"IMAGES/BKO.svg\" style=\"height: 350px;\"/>"
   ]
  },
  {
   "cell_type": "markdown",
   "metadata": {
    "collapsed": true,
    "slideshow": {
     "slide_type": "slide"
    }
   },
   "source": [
    "## Table of Contents\n",
    "\n",
    "\n",
    "- [Intro-Scikit and Pipelines](_01_Intro-Scikit_and_Pipelines.ipynb)\n",
    "- [Ransac for data cleansing](_02_RANSAC.ipynb)\n",
    "- [Keras-Tensorflow and Recurrent Neural Networks](_03_Intro_RNN_LSTM.ipynb)\n",
    "- [LSTM Seq2Seq for Equipment Faults](_04_seq2seq.ipynb)\n",
    "\n"
   ]
  },
  {
   "cell_type": "code",
   "execution_count": null,
   "metadata": {
    "collapsed": true,
    "slideshow": {
     "slide_type": "skip"
    }
   },
   "outputs": [],
   "source": []
  }
 ],
 "metadata": {
  "celltoolbar": "Slideshow",
  "kernelspec": {
   "display_name": "Python 3",
   "language": "python",
   "name": "python3"
  },
  "language_info": {
   "codemirror_mode": {
    "name": "ipython",
    "version": 3
   },
   "file_extension": ".py",
   "mimetype": "text/x-python",
   "name": "python",
   "nbconvert_exporter": "python",
   "pygments_lexer": "ipython3",
   "version": "3.6.7"
  }
 },
 "nbformat": 4,
 "nbformat_minor": 2
}
